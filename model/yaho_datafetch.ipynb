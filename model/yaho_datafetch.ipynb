{
 "cells": [
  {
   "cell_type": "code",
   "execution_count": 1,
   "metadata": {},
   "outputs": [],
   "source": [
    "import yfinance as yf\n",
    "\n",
    "# BIST 100 endeksinde bulunan hisse senetleri listesi (örnek)\n",
    "bist100_tickers = [\n",
    "   \"AKBNK.IS\", \"GARAN.IS\", \"ISCTR.IS\", \"KCHOL.IS\", \"SAHOL.IS\", \"TCELL.IS\", \"THYAO.IS\", \"VAKBN.IS\", \"YKBNK.IS\", \"ASELS.IS\", \"BIMAS.IS\", \"TUPRS.IS\", \"EREGL.IS\", \"PGSUS.IS\", \"TOASO.IS\", \"SISE.IS\", \"KOZAL.IS\", \"SOKM.IS\", \"FROTO.IS\", \"TAVHL.IS\", \"PETKM.IS\", \"KORDS.IS\", \"MGROS.IS\", \"ENJSA.IS\", \"DOHOL.IS\", \"TKFEN.IS\", \"OTKAR.IS\", \"KRDMD.IS\", \"VESTL.IS\", \"BRSAN.IS\", \"ODAS.IS\", \"ALGYO.IS\", \"AGHOL.IS\", \"AKSEN.IS\", \"ULKER.IS\", \"SELEC.IS\", \"GUBRF.IS\", \"SASA.IS\", \"TTRAK.IS\", \"LOGO.IS\", \"ECILC.IS\", \"CCOLA.IS\", \"ALARK.IS\", \"AYGAZ.IS\", \"DEVA.IS\", \"KARTN.IS\", \"DOAS.IS\", \"MAVI.IS\", \"AKGRT.IS\", \"TATGD.IS\", \"TRKCM.IS\", \"ANELE.IS\", \"HUBVC.IS\", \"JANTS.IS\", \"ITTFH.IS\", \"OZRDN.IS\", \"BRISA.IS\", \"HEKTS.IS\", \"TKNSA.IS\", \"TRILC.IS\", \"ISGYO.IS\", \"CEMTS.IS\", \"EGSER.IS\", \"EKGYO.IS\", \"MRGYO.IS\", \"MPARK.IS\", \"OTTO.IS\", \"VKGYO.IS\", \"NTHOL.IS\", \"BRYAT.IS\", \"LUKSK.IS\", \"GSDHO.IS\", \"ISFIN.IS\", \"FLAP.IS\", \"KZBGY.IS\", \"ZOREN.IS\", \"GENTS.IS\", \"PRKAB.IS\", \"IZMDC.IS\", \"KONKA.IS\", \"NTHOL.IS\", \"TMSN.IS\", \"AVISA.IS\", \"BLCYT.IS\", \"BJKAS.IS\", \"COSMO.IS\", \"COSMO.IS\", \"DAGI.IS\", \"GEDIK.IS\", \"GLRYH.IS\", \"GUSGR.IS\", \"HLGYO.IS\", \"INVEO.IS\", \"KFEIN.IS\", \"KORDS.IS\", \"KUTPO.IS\", \"MAKTK.IS\", \"METRO.IS\", \"NTGAZ.IS\", \"NUGYO.IS\", \"ODAS.IS\", \"PETUN.IS\", \"PSDTC.IS\", \"QNBFB.IS\", \"RTALB.IS\", \"RYGYO.IS\", \"SAYAS.IS\", \"TIRE.IS\", \"TMPOL.IS\", \"TSPOR.IS\", \"ULUSE.IS\", \"VAKKO.IS\", \"VERTU.IS\", \"YAYLA.IS\", \"YESIL.IS\"\n",
    "]\n",
    "\n",
    "# Listeyi güncel tutmak için Borsa İstanbul veya diğer güvenilir kaynaklardan kontrol etmek önemlidir\n"
   ]
  },
  {
   "cell_type": "code",
   "execution_count": 2,
   "metadata": {},
   "outputs": [
    {
     "name": "stderr",
     "output_type": "stream",
     "text": [
      "$TRKCM.IS: possibly delisted; No timezone found\n",
      "/var/folders/jd/m96sy9cd07bgckxgxc2ggj840000gn/T/ipykernel_18624/2005632098.py:19: FutureWarning: The behavior of array concatenation with empty entries is deprecated. In a future version, this will no longer exclude empty items when determining the result dtype. To retain the old behavior, exclude the empty entries before the concat operation.\n",
      "  all_data = pd.concat([all_data, stock_data])\n",
      "$ITTFH.IS: possibly delisted; No timezone found\n",
      "/var/folders/jd/m96sy9cd07bgckxgxc2ggj840000gn/T/ipykernel_18624/2005632098.py:19: FutureWarning: The behavior of array concatenation with empty entries is deprecated. In a future version, this will no longer exclude empty items when determining the result dtype. To retain the old behavior, exclude the empty entries before the concat operation.\n",
      "  all_data = pd.concat([all_data, stock_data])\n",
      "$AVISA.IS: possibly delisted; No timezone found\n",
      "/var/folders/jd/m96sy9cd07bgckxgxc2ggj840000gn/T/ipykernel_18624/2005632098.py:19: FutureWarning: The behavior of array concatenation with empty entries is deprecated. In a future version, this will no longer exclude empty items when determining the result dtype. To retain the old behavior, exclude the empty entries before the concat operation.\n",
      "  all_data = pd.concat([all_data, stock_data])\n",
      "$GUSGR.IS: possibly delisted; No timezone found\n",
      "/var/folders/jd/m96sy9cd07bgckxgxc2ggj840000gn/T/ipykernel_18624/2005632098.py:19: FutureWarning: The behavior of array concatenation with empty entries is deprecated. In a future version, this will no longer exclude empty items when determining the result dtype. To retain the old behavior, exclude the empty entries before the concat operation.\n",
      "  all_data = pd.concat([all_data, stock_data])\n",
      "$TIRE.IS: possibly delisted; No timezone found\n",
      "/var/folders/jd/m96sy9cd07bgckxgxc2ggj840000gn/T/ipykernel_18624/2005632098.py:19: FutureWarning: The behavior of array concatenation with empty entries is deprecated. In a future version, this will no longer exclude empty items when determining the result dtype. To retain the old behavior, exclude the empty entries before the concat operation.\n",
      "  all_data = pd.concat([all_data, stock_data])\n"
     ]
    }
   ],
   "source": [
    "import yfinance as yf\n",
    "import pandas as pd\n",
    "\n",
    "# Başlangıç ve bitiş tarihleri\n",
    "start_date = \"2020-01-01\"\n",
    "end_date = \"2024-12-31\"\n",
    "\n",
    "# Verileri saklamak için bir DataFrame oluştur\n",
    "all_data = pd.DataFrame()\n",
    "\n",
    "for ticker in bist100_tickers:\n",
    "    # Hisse senedi verilerini çek\n",
    "    stock_data = yf.Ticker(ticker).history(start=start_date, end=end_date)\n",
    "    \n",
    "    # Ticker bilgisini ekle\n",
    "    stock_data['Ticker'] = ticker\n",
    "    \n",
    "    # Veriyi ana DataFrame'e ekle\n",
    "    all_data = pd.concat([all_data, stock_data])\n",
    "\n",
    "# Veriyi CSV dosyasına kaydet\n",
    "all_data.to_csv(\"iknci_bist100_stocks_2020_2024.csv\")\n"
   ]
  },
  {
   "cell_type": "code",
   "execution_count": 3,
   "metadata": {},
   "outputs": [],
   "source": [
    "import yfinance as yf\n",
    "#toplam çalışan veya şirket bilgileri için \n",
    "\n",
    "def get_company_info(ticker):\n",
    "    stock = yf.Ticker(ticker)\n",
    "    info = stock.info\n",
    "    return {\n",
    "        'Ticker': ticker,\n",
    "        'Company Name': info.get('shortName'),\n",
    "        'Market Cap': info.get('marketCap'),\n",
    "        'Total Revenue': info.get('totalRevenue'),\n",
    "        'Gross Profits': info.get('grossProfits'),\n",
    "        'EBITDA': info.get('ebitda'),\n",
    "        'Net Income': info.get('netIncomeToCommon'),\n",
    "        'Total Employees': info.get('fullTimeEmployees'),\n",
    "    }\n",
    "\n",
    "# Örnek olarak ilk 5 hisse için şirket bilgilerini çekme\n",
    "company_data = [get_company_info(ticker) for ticker in bist100_tickers[:5]]\n",
    "\n",
    "# Şirket bilgilerini bir DataFrame'e dönüştürme\n",
    "company_df = pd.DataFrame(company_data)\n",
    "\n",
    "# Veriyi CSV dosyasına kaydetme\n",
    "company_df.to_csv(\"ikinci_bist100_company_info.csv\", index=False)\n"
   ]
  }
 ],
 "metadata": {
  "kernelspec": {
   "display_name": "my_env",
   "language": "python",
   "name": "python3"
  },
  "language_info": {
   "codemirror_mode": {
    "name": "ipython",
    "version": 3
   },
   "file_extension": ".py",
   "mimetype": "text/x-python",
   "name": "python",
   "nbconvert_exporter": "python",
   "pygments_lexer": "ipython3",
   "version": "3.9.19"
  }
 },
 "nbformat": 4,
 "nbformat_minor": 2
}
